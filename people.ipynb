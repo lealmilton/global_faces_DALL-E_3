{
 "cells": [
  {
   "cell_type": "code",
   "execution_count": 17,
   "metadata": {},
   "outputs": [
    {
     "name": "stdout",
     "output_type": "stream",
     "text": [
      "Requirement already satisfied: imageio-ffmpeg in c:\\users\\lealm\\onedrive\\área de trabalho\\canguru\\venv\\lib\\site-packages (0.4.9)\n",
      "Requirement already satisfied: openai in c:\\users\\lealm\\onedrive\\área de trabalho\\canguru\\venv\\lib\\site-packages (1.3.2)\n",
      "Requirement already satisfied: requests in c:\\users\\lealm\\onedrive\\área de trabalho\\canguru\\venv\\lib\\site-packages (2.31.0)\n",
      "Requirement already satisfied: setuptools in c:\\users\\lealm\\onedrive\\área de trabalho\\canguru\\venv\\lib\\site-packages (from imageio-ffmpeg) (65.5.0)\n",
      "Requirement already satisfied: anyio<4,>=3.5.0 in c:\\users\\lealm\\onedrive\\área de trabalho\\canguru\\venv\\lib\\site-packages (from openai) (3.7.1)\n",
      "Requirement already satisfied: distro<2,>=1.7.0 in c:\\users\\lealm\\onedrive\\área de trabalho\\canguru\\venv\\lib\\site-packages (from openai) (1.8.0)\n",
      "Requirement already satisfied: httpx<1,>=0.23.0 in c:\\users\\lealm\\onedrive\\área de trabalho\\canguru\\venv\\lib\\site-packages (from openai) (0.25.1)\n",
      "Requirement already satisfied: pydantic<3,>=1.9.0 in c:\\users\\lealm\\onedrive\\área de trabalho\\canguru\\venv\\lib\\site-packages (from openai) (2.5.1)\n",
      "Requirement already satisfied: tqdm>4 in c:\\users\\lealm\\onedrive\\área de trabalho\\canguru\\venv\\lib\\site-packages (from openai) (4.66.1)\n",
      "Requirement already satisfied: typing-extensions<5,>=4.5 in c:\\users\\lealm\\onedrive\\área de trabalho\\canguru\\venv\\lib\\site-packages (from openai) (4.8.0)\n",
      "Requirement already satisfied: charset-normalizer<4,>=2 in c:\\users\\lealm\\onedrive\\área de trabalho\\canguru\\venv\\lib\\site-packages (from requests) (3.3.2)\n",
      "Requirement already satisfied: idna<4,>=2.5 in c:\\users\\lealm\\onedrive\\área de trabalho\\canguru\\venv\\lib\\site-packages (from requests) (3.4)\n",
      "Requirement already satisfied: urllib3<3,>=1.21.1 in c:\\users\\lealm\\onedrive\\área de trabalho\\canguru\\venv\\lib\\site-packages (from requests) (2.1.0)\n",
      "Requirement already satisfied: certifi>=2017.4.17 in c:\\users\\lealm\\onedrive\\área de trabalho\\canguru\\venv\\lib\\site-packages (from requests) (2023.7.22)\n",
      "Requirement already satisfied: sniffio>=1.1 in c:\\users\\lealm\\onedrive\\área de trabalho\\canguru\\venv\\lib\\site-packages (from anyio<4,>=3.5.0->openai) (1.3.0)\n",
      "Requirement already satisfied: httpcore in c:\\users\\lealm\\onedrive\\área de trabalho\\canguru\\venv\\lib\\site-packages (from httpx<1,>=0.23.0->openai) (1.0.2)\n",
      "Requirement already satisfied: annotated-types>=0.4.0 in c:\\users\\lealm\\onedrive\\área de trabalho\\canguru\\venv\\lib\\site-packages (from pydantic<3,>=1.9.0->openai) (0.6.0)\n",
      "Requirement already satisfied: pydantic-core==2.14.3 in c:\\users\\lealm\\onedrive\\área de trabalho\\canguru\\venv\\lib\\site-packages (from pydantic<3,>=1.9.0->openai) (2.14.3)\n",
      "Requirement already satisfied: colorama in c:\\users\\lealm\\onedrive\\área de trabalho\\canguru\\venv\\lib\\site-packages (from tqdm>4->openai) (0.4.6)\n",
      "Requirement already satisfied: h11<0.15,>=0.13 in c:\\users\\lealm\\onedrive\\área de trabalho\\canguru\\venv\\lib\\site-packages (from httpcore->httpx<1,>=0.23.0->openai) (0.14.0)\n"
     ]
    },
    {
     "name": "stderr",
     "output_type": "stream",
     "text": [
      "\n",
      "[notice] A new release of pip is available: 23.2.1 -> 23.3.1\n",
      "[notice] To update, run: python.exe -m pip install --upgrade pip\n"
     ]
    }
   ],
   "source": [
    "!pip install imageio-ffmpeg openai requests\n"
   ]
  },
  {
   "cell_type": "code",
   "execution_count": 12,
   "metadata": {},
   "outputs": [],
   "source": [
    "import time\n",
    "from pathlib import Path\n",
    "import requests\n",
    "from openai import OpenAI\n",
    "import imageio.v3 as imageio\n",
    "import os"
   ]
  },
  {
   "cell_type": "code",
   "execution_count": 2,
   "metadata": {},
   "outputs": [],
   "source": [
    "# List of all countries recognized by the United Nations in alphabetical order\n",
    "# Note: Sudan and South Sudan have been excluded because of OpenAI's policy.\n",
    "\n",
    "un_countries = [\n",
    "    \"Afghanistan\", \"Albania\", \"Algeria\", \"Andorra\", \"Angola\", \"Antigua and Barbuda\", \"Argentina\", \"Armenia\", \"Australia\", \n",
    "    \"Austria\", \"Azerbaijan\", \"Bahamas\", \"Bahrain\", \"Bangladesh\", \"Barbados\", \"Belarus\", \"Belgium\", \"Belize\", \"Benin\", \n",
    "    \"Bhutan\", \"Bolivia\", \"Bosnia and Herzegovina\", \"Botswana\", \"Brazil\", \"Brunei\", \"Bulgaria\", \"Burkina Faso\", \"Burundi\", \n",
    "    \"Cabo Verde\", \"Cambodia\", \"Cameroon\", \"Canada\", \"Central African Republic\", \"Chad\", \"Chile\", \"China\", \"Colombia\", \n",
    "    \"Comoros\", \"Congo, Democratic Republic of the\", \"Congo, Republic of the\", \"Costa Rica\", \"Croatia\", \"Cuba\", \"Cyprus\", \n",
    "    \"Czech Republic\", \"Denmark\", \"Djibouti\", \"Dominica\", \"Dominican Republic\", \"Ecuador\", \"Egypt\", \"El Salvador\", \n",
    "    \"Equatorial Guinea\", \"Eritrea\", \"Estonia\", \"Eswatini\", \"Ethiopia\", \"Fiji\", \"Finland\", \"France\", \"Gabon\", \"Gambia\", \n",
    "    \"Georgia\", \"Germany\", \"Ghana\", \"Greece\", \"Grenada\", \"Guatemala\", \"Guinea\", \"Guinea-Bissau\", \"Guyana\", \"Haiti\", \n",
    "    \"Honduras\", \"Hungary\", \"Iceland\", \"India\", \"Indonesia\", \"Iran\", \"Iraq\", \"Ireland\", \"Israel\", \"Italy\", \"Jamaica\", \n",
    "    \"Japan\", \"Jordan\", \"Kazakhstan\", \"Kenya\", \"Kiribati\", \"Korea, North\", \"Korea, South\", \"Kosovo\", \"Kuwait\", \"Kyrgyzstan\", \n",
    "    \"Laos\", \"Latvia\", \"Lebanon\", \"Lesotho\", \"Liberia\", \"Libya\", \"Liechtenstein\", \"Lithuania\", \"Luxembourg\", \"Madagascar\", \n",
    "    \"Malawi\", \"Malaysia\", \"Maldives\", \"Mali\", \"Malta\", \"Marshall Islands\", \"Mauritania\", \"Mauritius\", \"Mexico\", \n",
    "    \"Micronesia\", \"Moldova\", \"Monaco\", \"Mongolia\", \"Montenegro\", \"Morocco\", \"Mozambique\", \"Myanmar\", \"Namibia\", \"Nauru\", \n",
    "    \"Nepal\", \"Netherlands\", \"New Zealand\", \"Nicaragua\", \"Niger\", \"Nigeria\", \"North Macedonia\", \"Norway\", \"Oman\", \n",
    "    \"Pakistan\", \"Palau\", \"Palestine\", \"Panama\", \"Papua New Guinea\", \"Paraguay\", \"Peru\", \"Philippines\", \"Poland\", \n",
    "    \"Portugal\", \"Qatar\", \"Romania\", \"Russia\", \"Rwanda\", \"Saint Kitts and Nevis\", \"Saint Lucia\", \"Saint Vincent and the Grenadines\", \n",
    "    \"Samoa\", \"San Marino\", \"Sao Tome and Principe\", \"Saudi Arabia\", \"Senegal\", \"Serbia\", \"Seychelles\", \"Sierra Leone\", \n",
    "    \"Singapore\", \"Slovakia\", \"Slovenia\", \"Solomon Islands\", \"Somalia\", \"South Africa\", \"Spain\", \"Sri Lanka\", \"Suriname\", \n",
    "    \"Sweden\", \"Switzerland\", \"Syria\", \"Taiwan\", \"Tajikistan\", \"Tanzania\", \"Thailand\", \"Timor-Leste\", \n",
    "    \"Togo\", \"Tonga\", \"Trinidad and Tobago\", \"Tunisia\", \"Turkey\", \"Turkmenistan\", \"Tuvalu\", \"Uganda\", \"Ukraine\", \n",
    "    \"United Arab Emirates\", \"United Kingdom\", \"United States\", \"Uruguay\", \"Uzbekistan\", \"Vanuatu\", \"Vatican City\", \n",
    "    \"Venezuela\", \"Vietnam\", \"Yemen\", \"Zambia\", \"Zimbabwe\"\n",
    "]"
   ]
  },
  {
   "cell_type": "code",
   "execution_count": null,
   "metadata": {},
   "outputs": [],
   "source": [
    "# Initialize OpenAI client\n",
    "client = OpenAI()\n",
    "\n",
    "# Create a 'people' folder in the same directory where the script is run\n",
    "folder_path = Path(\"./people\")\n",
    "folder_path.mkdir(parents=True, exist_ok=True)\n",
    "\n",
    "# Function to check if an image for a country already exists\n",
    "def image_exists(country):\n",
    "    return (folder_path / f\"{country}.png\").exists()\n",
    "\n",
    "# Function to generate an image using OpenAI's DALL-E and save it\n",
    "def generate_image_for_country(country):\n",
    "    prompt = f\"A picture of a person from {country}, with the country's name on it.\"\n",
    "\n",
    "    # Call to OpenAI's DALL-E API\n",
    "    response = client.images.generate(\n",
    "        model=\"dall-e-3\",\n",
    "        prompt=prompt,\n",
    "        size=\"1024x1024\",\n",
    "        quality=\"hd\",\n",
    "        n=1,\n",
    "    )\n",
    "    \n",
    "    # Get the URL of the generated image\n",
    "    image_url = response.data[0].url\n",
    "\n",
    "    # Download the image from the URL\n",
    "    response = requests.get(image_url)\n",
    "    if response.status_code == 200:\n",
    "        # Save the image\n",
    "        image_path = folder_path / f\"{country}.png\"\n",
    "        with open(image_path, \"wb\") as file:\n",
    "            file.write(response.content)\n",
    "        return str(image_path)\n",
    "    else:\n",
    "        print(f\"Failed to download image for {country}\")\n",
    "        return None\n",
    "\n",
    "# Function to generate and save images with rate limiting\n",
    "def generate_and_save_images(countries, rate_limit=4):\n",
    "    generated_paths = []\n",
    "    for i, country in enumerate(countries):\n",
    "        if image_exists(country):\n",
    "            print(f\"Image for {country} already exists. Skipping.\")\n",
    "            continue\n",
    "\n",
    "        # Generate and save image\n",
    "        image_path = generate_image_for_country(country)\n",
    "        if image_path:\n",
    "            generated_paths.append(image_path)\n",
    "\n",
    "        # Rate limiting: Sleep after every 4th image, but not after the last image\n",
    "        if (i + 1) % rate_limit == 0 and (i + 1) != len(countries):\n",
    "            print(f\"Rate limit reached. Sleeping for 60 seconds.\")\n",
    "            time.sleep(60)\n",
    "\n",
    "    return generated_paths\n",
    "\n",
    "# Generate and save images for all UN countries\n",
    "generated_images = generate_and_save_images(un_countries)\n"
   ]
  },
  {
   "cell_type": "code",
   "execution_count": 18,
   "metadata": {},
   "outputs": [],
   "source": [
    "# Directory containing the images\n",
    "folder_path = \"./people\"\n",
    "\n",
    "# List of image filenames (make sure they are sorted in the order you want them to appear in the video)\n",
    "image_filenames = sorted([file for file in os.listdir(folder_path) if file.endswith(\".png\")])\n",
    "\n",
    "# Load the images\n",
    "images = [imageio.imread(os.path.join(folder_path, filename)) for filename in image_filenames]\n",
    "\n",
    "# Create the output video file\n",
    "imageio.imwrite(\"countries_video.mp4\", images, fps=2)  # Adjust FPS as needed\n"
   ]
  }
 ],
 "metadata": {
  "kernelspec": {
   "display_name": "venv",
   "language": "python",
   "name": "python3"
  },
  "language_info": {
   "codemirror_mode": {
    "name": "ipython",
    "version": 3
   },
   "file_extension": ".py",
   "mimetype": "text/x-python",
   "name": "python",
   "nbconvert_exporter": "python",
   "pygments_lexer": "ipython3",
   "version": "3.11.5"
  }
 },
 "nbformat": 4,
 "nbformat_minor": 2
}
